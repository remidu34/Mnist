{
  "nbformat": 4,
  "nbformat_minor": 0,
  "metadata": {
    "colab": {
      "provenance": [],
      "authorship_tag": "ABX9TyMXCEc+cbcfneEzryRoxBhc",
      "include_colab_link": true
    },
    "kernelspec": {
      "name": "python3",
      "display_name": "Python 3"
    },
    "language_info": {
      "name": "python"
    }
  },
  "cells": [
    {
      "cell_type": "markdown",
      "metadata": {
        "id": "view-in-github",
        "colab_type": "text"
      },
      "source": [
        "<a href=\"https://colab.research.google.com/github/remidu34/Mnist/blob/main/Mnist.ipynb\" target=\"_parent\"><img src=\"https://colab.research.google.com/assets/colab-badge.svg\" alt=\"Open In Colab\"/></a>"
      ]
    },
    {
      "cell_type": "code",
      "execution_count": null,
      "metadata": {
        "id": "YuX36EER1iD3"
      },
      "outputs": [],
      "source": [
        "# Imports\n",
        "import tensorflow as tf\n",
        "from tensorflow.keras import layers, models\n",
        "from tensorflow.keras.datasets import mnist\n",
        "from tensorflow.keras.utils import to_categorical\n",
        "from tensorflow.keras.preprocessing import image\n",
        "import matplotlib.pyplot as plt\n",
        "import pandas as pd\n",
        "import numpy as np\n",
        "import cv2\n",
        "from PIL import Image\n",
        "import numpy as np"
      ]
    },
    {
      "cell_type": "code",
      "source": [
        "\n",
        "print(tf.__version__)\n",
        "#print(plt.__version__)"
      ],
      "metadata": {
        "colab": {
          "base_uri": "https://localhost:8080/"
        },
        "id": "AgoLK11D2U57",
        "outputId": "58568f6b-2a90-47a1-d357-3818d75d44ea"
      },
      "execution_count": null,
      "outputs": [
        {
          "output_type": "stream",
          "name": "stdout",
          "text": [
            "2.13.0\n"
          ]
        }
      ]
    },
    {
      "cell_type": "code",
      "source": [
        "# Chargement des données de Mnist\n",
        "(train_images, train_labels), (test_images, test_labels) = mnist.load_data()"
      ],
      "metadata": {
        "id": "gCtZpjCJ29uK"
      },
      "execution_count": null,
      "outputs": []
    },
    {
      "cell_type": "code",
      "source": [
        "print(\"Taille de l'ensemble d'entraînement (images) :\", train_images.shape)\n",
        "print(\"Taille de l'ensemble d'entraînement (étiquettes) :\", train_labels.shape)\n",
        "print(\"Taille de l'ensemble de test (images) :\", test_images.shape)\n",
        "print(\"Taille de l'ensemble de test (étiquettes) :\", test_labels.shape)"
      ],
      "metadata": {
        "colab": {
          "base_uri": "https://localhost:8080/"
        },
        "id": "v7kcqSRDDHAV",
        "outputId": "af79dec3-ac10-459a-87df-1a5444cd4d50"
      },
      "execution_count": null,
      "outputs": [
        {
          "output_type": "stream",
          "name": "stdout",
          "text": [
            "Taille de l'ensemble d'entraînement (images) : (60000, 28, 28)\n",
            "Taille de l'ensemble d'entraînement (étiquettes) : (60000,)\n",
            "Taille de l'ensemble de test (images) : (10000, 28, 28)\n",
            "Taille de l'ensemble de test (étiquettes) : (10000,)\n"
          ]
        }
      ]
    },
    {
      "cell_type": "code",
      "source": [
        "# Affichage des premières 10 images du jeu de données MNIST pour vérifier si j'ai bien des données\n",
        "plt.figure(figsize=(10, 5))\n",
        "for i in range(10):\n",
        "    plt.subplot(2, 5, i + 1)\n",
        "    plt.imshow(train_images[i], cmap='gray')\n",
        "    plt.title(f'Label : {train_labels[i]}')\n",
        "    plt.axis('off')\n",
        "plt.show()"
      ],
      "metadata": {
        "colab": {
          "base_uri": "https://localhost:8080/",
          "height": 402
        },
        "id": "zGQ4Ufxh7fO4",
        "outputId": "edde287b-82ef-4911-ce00-a86530774abf"
      },
      "execution_count": null,
      "outputs": [
        {
          "output_type": "display_data",
          "data": {
            "text/plain": [
              "<Figure size 1000x500 with 10 Axes>"
            ],
            "image/png": "[encoded data removed]"
          },
          "metadata": {}
        }
      ]
    },
    {
      "cell_type": "code",
      "source": [
        "# Prétraitement des données\n",
        "train_images = train_images.reshape((60000, 28, 28, 1))\n",
        "train_images = train_images.astype('float32') / 255"
      ],
      "metadata": {
        "id": "fKAnBvLh3E3r"
      },
      "execution_count": null,
      "outputs": []
    },
    {
      "cell_type": "code",
      "source": [
        "test_images = test_images.reshape((10000, 28, 28, 1))\n",
        "test_images = test_images.astype('float32') / 255"
      ],
      "metadata": {
        "id": "2izjRJoR3W2O"
      },
      "execution_count": null,
      "outputs": []
    },
    {
      "cell_type": "code",
      "source": [
        "train_labels = to_categorical(train_labels)\n",
        "test_labels = to_categorical(test_labels)"
      ],
      "metadata": {
        "id": "AlkYYTfV3Zd7"
      },
      "execution_count": null,
      "outputs": []
    },
    {
      "cell_type": "code",
      "source": [
        "# Création modèle CNN\n",
        "model = models.Sequential()\n",
        "model.add(layers.Conv2D(32, (3, 3), activation='relu', input_shape=(28, 28, 1)))\n",
        "model.add(layers.MaxPooling2D((2, 2)))\n",
        "model.add(layers.Conv2D(64, (3, 3), activation='relu'))\n",
        "model.add(layers.MaxPooling2D((2, 2)))\n",
        "model.add(layers.Conv2D(64, (3, 3), activation='relu'))\n",
        "model.add(layers.Flatten())\n",
        "model.add(layers.Dense(64, activation='relu'))\n",
        "model.add(layers.Dense(10, activation='softmax'))"
      ],
      "metadata": {
        "id": "985wXFDl3dGV"
      },
      "execution_count": null,
      "outputs": []
    },
    {
      "cell_type": "code",
      "source": [
        "# Compiler le modèle\n",
        "model.compile(optimizer='adam',\n",
        "              loss='categorical_crossentropy',\n",
        "              metrics=['accuracy'])"
      ],
      "metadata": {
        "id": "NxI5XkTb3gWX"
      },
      "execution_count": null,
      "outputs": []
    },
    {
      "cell_type": "code",
      "source": [
        "# Entraînement modèle\n",
        "model.fit(train_images, train_labels, epochs=5, batch_size=64)"
      ],
      "metadata": {
        "colab": {
          "base_uri": "https://localhost:8080/"
        },
        "id": "lb3V8WC93jEe",
        "outputId": "bbee3bd2-7a11-4dc0-d4f9-5affee8dfecc"
      },
      "execution_count": null,
      "outputs": [
        {
          "output_type": "stream",
          "name": "stdout",
          "text": [
            "Epoch 1/5\n",
            "938/938 [==============================] - 48s 50ms/step - loss: 0.1844 - accuracy: 0.9441\n",
            "Epoch 2/5\n",
            "938/938 [==============================] - 51s 54ms/step - loss: 0.0491 - accuracy: 0.9846\n",
            "Epoch 3/5\n",
            "938/938 [==============================] - 48s 51ms/step - loss: 0.0351 - accuracy: 0.9891\n",
            "Epoch 4/5\n",
            "938/938 [==============================] - 47s 50ms/step - loss: 0.0284 - accuracy: 0.9912\n",
            "Epoch 5/5\n",
            "938/938 [==============================] - 47s 50ms/step - loss: 0.0220 - accuracy: 0.9933\n"
          ]
        },
        {
          "output_type": "execute_result",
          "data": {
            "text/plain": [
              "<keras.src.callbacks.History at 0x797c3ccf1150>"
            ]
          },
          "metadata": {},
          "execution_count": 44
        }
      ]
    },
    {
      "cell_type": "code",
      "source": [
        "# Résultat modèle\n",
        "test_loss, test_acc = model.evaluate(test_images, test_labels)\n",
        "print(f'Accuracy : {test_acc}')"
      ],
      "metadata": {
        "colab": {
          "base_uri": "https://localhost:8080/"
        },
        "id": "ptQCbTyh5thf",
        "outputId": "e70d05a9-913f-41fd-d865-848dde6bd8c7"
      },
      "execution_count": null,
      "outputs": [
        {
          "output_type": "stream",
          "name": "stdout",
          "text": [
            "313/313 [==============================] - 3s 9ms/step - loss: 0.0272 - accuracy: 0.9914\n",
            "Accuracy : 0.9914000034332275\n"
          ]
        }
      ]
    },
    {
      "cell_type": "code",
      "source": [
        "# Test de prédiction d'un Mnist"
      ],
      "metadata": {
        "id": "IKnrDsAqFSFR"
      },
      "execution_count": null,
      "outputs": []
    },
    {
      "cell_type": "code",
      "source": [
        "# Chargez votre image personnalisée ici\n",
        "custom_image = Image.open(\"/content/Images/ToPredict/sixletter.png\")"
      ],
      "metadata": {
        "id": "XosTSNlrr0da"
      },
      "execution_count": null,
      "outputs": []
    },
    {
      "cell_type": "code",
      "source": [
        "# Affichez l'image\n",
        "plt.imshow(custom_image, cmap='gray')\n",
        "plt.axis('off')  # Pour masquer les axes\n",
        "plt.show()"
      ],
      "metadata": {
        "colab": {
          "base_uri": "https://localhost:8080/",
          "height": 406
        },
        "id": "a7ykmLWZwJWT",
        "outputId": "6f7282be-2405-4b37-9d8e-860a77226b46"
      },
      "execution_count": null,
      "outputs": [
        {
          "output_type": "display_data",
          "data": {
            "text/plain": [
              "<Figure size 640x480 with 1 Axes>"
            ],
            "image/png": "[encoded data removed]"
          },
          "metadata": {}
        }
      ]
    },
    {
      "cell_type": "code",
      "source": [
        "# Convertissez l'image en niveaux de gris comme les entrainements\n",
        "custom_image = custom_image.convert(\"L\")"
      ],
      "metadata": {
        "id": "tL_lTKL4r49A"
      },
      "execution_count": null,
      "outputs": []
    },
    {
      "cell_type": "code",
      "source": [
        "# Ajoutez une dimension de canal pour obtenir la forme requise\n",
        "custom_image = np.array(custom_image)[:, :, np.newaxis]"
      ],
      "metadata": {
        "id": "aJyeeLBpsYBf"
      },
      "execution_count": null,
      "outputs": []
    },
    {
      "cell_type": "code",
      "source": [
        "# Redimensionnez l'image à la taille attendue (28x28)\n",
        "custom_image = image.smart_resize(custom_image, (28, 28))"
      ],
      "metadata": {
        "id": "o82f9WCkr7Oq"
      },
      "execution_count": null,
      "outputs": []
    },
    {
      "cell_type": "code",
      "source": [
        "# Normalisez l'image\n",
        "custom_image = custom_image.astype('float32') / 255"
      ],
      "metadata": {
        "id": "lJZMACOOsc0x"
      },
      "execution_count": null,
      "outputs": []
    },
    {
      "cell_type": "code",
      "source": [
        "# Prédiction pour chaque classe dans predicted_label\n",
        "predicted_label = model.predict(np.expand_dims(custom_image, axis=0))"
      ],
      "metadata": {
        "colab": {
          "base_uri": "https://localhost:8080/"
        },
        "id": "qP36isN5se76",
        "outputId": "c5d448af-323c-462f-f468-f0efc4a2e0b4"
      },
      "execution_count": null,
      "outputs": [
        {
          "output_type": "stream",
          "name": "stdout",
          "text": [
            "1/1 [==============================] - 0s 23ms/step\n"
          ]
        }
      ]
    },
    {
      "cell_type": "code",
      "source": [
        "# Récupération de la classe avec la valeur maxi\n",
        "predicted_class = np.argmax(predicted_label)"
      ],
      "metadata": {
        "id": "uh3pX6dIsj7J"
      },
      "execution_count": null,
      "outputs": []
    },
    {
      "cell_type": "code",
      "source": [
        "# Obtenez le pourcentage de confiance pour la classe prédite\n",
        "confidence = np.max(predicted_label) * 100"
      ],
      "metadata": {
        "id": "qQqRIZX-vhIo"
      },
      "execution_count": null,
      "outputs": []
    },
    {
      "cell_type": "code",
      "source": [
        "# Classe prédicte et % de prédiction\n",
        "print(f'Classe prédite : {predicted_class}')\n",
        "print(f'Pourcentage de confiance : {confidence:.2f}%')"
      ],
      "metadata": {
        "colab": {
          "base_uri": "https://localhost:8080/"
        },
        "id": "T0TQ0dlMsl-K",
        "outputId": "43764b59-34cb-46c0-8941-e186e87ef9e7"
      },
      "execution_count": null,
      "outputs": [
        {
          "output_type": "stream",
          "name": "stdout",
          "text": [
            "Classe prédite : 6\n",
            "Pourcentage de confiance : 100.00%\n"
          ]
        }
      ]
    },
    {
      "cell_type": "code",
      "source": [],
      "metadata": {
        "id": "m-FQpjn_smrW"
      },
      "execution_count": null,
      "outputs": []
    }
  ]
}